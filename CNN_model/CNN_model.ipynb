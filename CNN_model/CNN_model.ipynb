{
 "cells": [
  {
   "cell_type": "markdown",
   "id": "014cdc2e",
   "metadata": {},
   "source": [
    "torch 불러오기"
   ]
  },
  {
   "cell_type": "code",
   "execution_count": 15,
   "id": "a11dcd54",
   "metadata": {},
   "outputs": [
    {
     "name": "stdout",
     "output_type": "stream",
     "text": [
      "pytorch version: 1.9.0\n",
      "GPU 사용 가능 여부: True\n"
     ]
    }
   ],
   "source": [
    "import torch\n",
    "import torchvision\n",
    "import torch.nn as nn\n",
    "import torch.nn.functional as F\n",
    "import torchvision.transforms as transforms\n",
    "from torch.utils.data import Dataset, DataLoader\n",
    "from PIL import Image\n",
    "import glob\n",
    "import os\n",
    "import matplotlib.pyplot as plt\n",
    "import numpy as np\n",
    "%matplotlib inline\n",
    "\n",
    "print('pytorch version: {}'.format(torch.__version__))\n",
    "print('GPU 사용 가능 여부: {}'.format(torch.cuda.is_available()))\n",
    "device = \"cuda\" if torch.cuda.is_available() else \"cpu\"   # GPU 사용 가능 여부에 따라 device 정보 저장"
   ]
  },
  {
   "cell_type": "code",
   "execution_count": 16,
   "id": "aa10c731",
   "metadata": {},
   "outputs": [],
   "source": [
    "data_dir = './archive/rps'"
   ]
  },
  {
   "cell_type": "code",
   "execution_count": 17,
   "id": "502b4661",
   "metadata": {},
   "outputs": [],
   "source": [
    "batch_size = 100\n",
    "num_epochs = 10\n",
    "learning_rate = 0.0001"
   ]
  },
  {
   "cell_type": "code",
   "execution_count": 18,
   "id": "74fb2895",
   "metadata": {},
   "outputs": [],
   "source": [
    "class RPSDataset(Dataset):\n",
    "    def __init__(self, data_dir, mode, transform=None):\n",
    "        self.all_data = sorted(glob.glob(os.path.join(data_dir, mode, '*', '*')))\n",
    "        self.transform = transform\n",
    "    \n",
    "    def __getitem__(self, index):\n",
    "        # Step 1: 반환할 이미지 경로 정의 및 이미지 로드\n",
    "        ## 코드 시작 ##\n",
    "        data_path = self.all_data[index]    # 위의 설명 Step 1의 1. 을 참고하여 None을 채우세요.\n",
    "        img = Image.open(data_path).convert('RGB')          # 위의 설명 Step 1의 2. 를 참고하여 None을 채우세요.\n",
    "        if self.transform:\n",
    "            img = self.transform(img)\n",
    "            \n",
    "            # 위의 설명 Step 1의 3. 을 참고하여 None을 채우세요.\n",
    "        \n",
    "\n",
    "        ## 코드 종료 ##\n",
    "        \n",
    "        # Step 2: 이미지에 대한 label 정의\n",
    "        ## 코드 시작 ##\n",
    "        if(os.path.basename(data_path).startswith('paper')):\n",
    "            label = 0\n",
    "        elif(os.path.basename(data_path).startswith('rock')):\n",
    "            label = 1\n",
    "        elif(os.path.basename(data_path).startswith('scissors')):\n",
    "            label = 2\n",
    "                # 위의 설명 Step 2 를 참고하여 None을 채우세요.\n",
    "        ## 코드 종료 ##\n",
    "        return img, label\n",
    "    \n",
    "    def __len__(self):\n",
    "        ## 코드 시작 ##\n",
    "        length = len(self.all_data)\n",
    "        ## 코드 종료 ##\n",
    "        return length\n",
    "        "
   ]
  },
  {
   "cell_type": "code",
   "execution_count": 19,
   "id": "837eb200",
   "metadata": {},
   "outputs": [],
   "source": [
    "data_transforms = {\n",
    "    'train': transforms.Compose([\n",
    "        transforms.RandomRotation(5),\n",
    "        transforms.RandomHorizontalFlip(),\n",
    "        transforms.RandomResizedCrop(120, scale=(0.96, 1.0), ratio=(0.95, 1.05)),\n",
    "        transforms.ToTensor(),\n",
    "        transforms.Normalize([0.485, 0.456, 0.406], [0.229, 0.224, 0.225])\n",
    "    ]),\n",
    "    'val': transforms.Compose([\n",
    "        transforms.Resize([120, 120]),\n",
    "        transforms.ToTensor(),\n",
    "        transforms.Normalize([0.485, 0.456, 0.406], [0.229, 0.224, 0.225])\n",
    "    ]),\n",
    "}\n",
    "train_data = RPSDataset(data_dir='./archive/rps', mode='train', transform=data_transforms['train'])\n",
    "val_data = RPSDataset(data_dir='./archive/rps', mode='val', transform=data_transforms['val'])\n",
    "test_data = RPSDataset(data_dir='./archive/rps', mode='test', transform=data_transforms['val'])\n",
    "\n",
    "train_loader = DataLoader(train_data, batch_size=batch_size, shuffle=True, drop_last=True)\n",
    "val_loader = DataLoader(val_data, batch_size=1, shuffle=False, drop_last=True)\n",
    "test_loader = DataLoader(test_data, batch_size=4, shuffle=False, drop_last=True)"
   ]
  },
  {
   "cell_type": "code",
   "execution_count": 20,
   "id": "592a8eff",
   "metadata": {},
   "outputs": [
    {
     "data": {
      "text/plain": [
       "2520"
      ]
     },
     "execution_count": 20,
     "metadata": {},
     "output_type": "execute_result"
    }
   ],
   "source": [
    "len(train_data)"
   ]
  },
  {
   "cell_type": "code",
   "execution_count": 21,
   "id": "177b32e6",
   "metadata": {},
   "outputs": [],
   "source": [
    "class SimpleCNN(nn.Module):\n",
    "    def __init__(self):\n",
    "        super().__init__()\n",
    "        # self.conv 구현\n",
    "        self.conv = nn.Sequential(\n",
    "            ## 코드 시작 ##\n",
    "            nn.Conv2d(3, 32, 3),    # conv_1 해당하는 층\n",
    "            nn.BatchNorm2d(32),    # batch_norm_1 해당하는 층\n",
    "            nn.ReLU(),    # ReLU_1 해당하는 층\n",
    "            nn.MaxPool2d(2),    # maxpool_1 해당하는 층\n",
    "            \n",
    "            nn.Conv2d(32, 64, 3),    # conv_2 해당하는 층\n",
    "            nn.BatchNorm2d(64),    # batch_norm_2 해당하는 층\n",
    "            nn.ReLU(),    # ReLU_2 해당하는 층\n",
    "            nn.MaxPool2d(2),    # maxpool_2 해당하는 층\n",
    "            \n",
    "            nn.Conv2d(64, 128, 3),    # conv_3 해당하는 층\n",
    "            nn.BatchNorm2d(128),    # batch_norm_3 해당하는 층 \n",
    "            nn.ReLU(),    # ReLU_3 해당하는 층\n",
    "            nn.MaxPool2d(2),    # maxpool_3 해당하는 층\n",
    "            \n",
    "            nn.Conv2d(128, 128, 3),    # conv_4 해당하는 층\n",
    "            nn.BatchNorm2d(128),    # batch_norm_4 해당하는 층\n",
    "            nn.ReLU(),    # ReLU_4 해당하는 층\n",
    "            nn.MaxPool2d(2),    # maxpool_4 해당하는 층\n",
    "            ## 코드 종료 ##\n",
    "        )\n",
    "        \n",
    "        # self.fc 구현\n",
    "        ## 코드 시작 ##\n",
    "        self.fc1 = nn.Linear(3200, 512)\n",
    "        self.fc2 = nn.Linear(512, 3)\n",
    "        ## 코드 종료 ##\n",
    "    \n",
    "    def forward(self, x):\n",
    "        x = self.conv(x)\n",
    "        x = x.view(x.shape[0], -1)\n",
    "        x = F.relu(self.fc1(x))\n",
    "        x = self.fc2(x)\n",
    "        return x"
   ]
  },
  {
   "cell_type": "code",
   "execution_count": null,
   "id": "f4ca416f",
   "metadata": {},
   "outputs": [],
   "source": []
  },
  {
   "cell_type": "code",
   "execution_count": 22,
   "id": "83e59a50",
   "metadata": {},
   "outputs": [],
   "source": [
    "def train(num_epochs, model, data_loader, criterion, optimizer, saved_dir, val_every, device):\n",
    "    print('Start training..')\n",
    "    best_loss = 9999999\n",
    "    for epoch in range(num_epochs):\n",
    "        for i, (imgs, labels) in enumerate(data_loader):\n",
    "            imgs, labels = imgs.to(device), labels.to(device)\n",
    "            ## 코드 시작 ##\n",
    "            outputs = model(imgs)  # 위의 설명 1. 을 참고하여 None을 채우세요.\n",
    "            loss = criterion(outputs, labels)     # 위의 설명 2. 를 참고하여 None을 채우세요.\n",
    "\n",
    "            optimizer.zero_grad()            # Clear gradients: 위의 설명 3. 을 참고하여 None을 채우세요.\n",
    "            loss.backward()            # Gradients 계산: 위의 설명 3. 을 참고하여 None을 채우세요.\n",
    "            optimizer.step()            # Parameters 업데이트: 위의 설명 3. 을 참고하여 None을 채우세요.\n",
    "            ## 코드 종료 ##\n",
    "\n",
    "            _, argmax = torch.max(outputs, 1)\n",
    "            accuracy = (labels == argmax).float().mean()\n",
    "\n",
    "            if (i+1) % 3 == 0:\n",
    "                print('Epoch [{}/{}], Step [{}/{}], Loss: {:.4f}, Accuracy: {:.2f}%'.format(\n",
    "                    epoch+1, num_epochs, i+1, len(data_loader), loss.item(), accuracy.item() * 100))\n",
    "\n",
    "        if (epoch + 1) % val_every == 0:\n",
    "            avrg_loss = validation(epoch + 1, model, val_loader, criterion, device)\n",
    "            if avrg_loss < best_loss:\n",
    "                print('Best performance at epoch: {}'.format(epoch + 1))\n",
    "                print('Save model in', saved_dir)\n",
    "                best_loss = avrg_loss\n",
    "                save_model(model, saved_dir)"
   ]
  },
  {
   "cell_type": "code",
   "execution_count": null,
   "id": "19cb0ff2",
   "metadata": {},
   "outputs": [],
   "source": []
  },
  {
   "cell_type": "code",
   "execution_count": 23,
   "id": "e7d43055",
   "metadata": {},
   "outputs": [],
   "source": [
    "def validation(epoch, model, data_loader, criterion, device):\n",
    "    print('Start validation #{}'.format(epoch) )\n",
    "    model.eval()\n",
    "    with torch.no_grad():\n",
    "        total = 0\n",
    "        correct = 0\n",
    "        total_loss = 0\n",
    "        cnt = 0\n",
    "        for i, (imgs, labels) in enumerate(data_loader):\n",
    "            imgs, labels = imgs.to(device), labels.to(device)\n",
    "            ## 코드 시작 ##\n",
    "            outputs = model(imgs)\n",
    "            loss = criterion(outputs, labels)\n",
    "            ## 코드 종료 ##\n",
    "            total += imgs.size(0)\n",
    "            _, argmax = torch.max(outputs, 1)\n",
    "            correct += (labels == argmax).sum().item()\n",
    "            total_loss += loss\n",
    "            cnt += 1\n",
    "        avrg_loss = total_loss / cnt\n",
    "        print('Validation #{}  Accuracy: {:.2f}%  Average Loss: {:.4f}'.format(epoch, correct / total * 100, avrg_loss))\n",
    "    model.train()\n",
    "    return avrg_loss"
   ]
  },
  {
   "cell_type": "code",
   "execution_count": null,
   "id": "141386ec",
   "metadata": {},
   "outputs": [],
   "source": []
  },
  {
   "cell_type": "code",
   "execution_count": 24,
   "id": "5b33f5d8",
   "metadata": {},
   "outputs": [],
   "source": [
    "def test(model, data_loader, device):\n",
    "    print('Start test..')\n",
    "    model.eval()\n",
    "    with torch.no_grad():\n",
    "        correct = 0\n",
    "        total = 0\n",
    "        for i, (imgs, labels) in enumerate(data_loader):\n",
    "            imgs, labels = imgs.to(device), labels.to(device)\n",
    "            ## 코드 시작 ##\n",
    "            outputs = model(imgs)\n",
    "            ## 코드 종료 ##\n",
    "            _, argmax = torch.max(outputs, 1)    # max()를 통해 최종 출력이 가장 높은 class 선택\n",
    "            total += imgs.size(0)\n",
    "            correct += (labels == argmax).sum().item()\n",
    "\n",
    "        print('Test accuracy for {} images: {:.2f}%'.format(total, correct / total * 100))\n",
    "    model.train()"
   ]
  },
  {
   "cell_type": "code",
   "execution_count": null,
   "id": "2d7dc2ee",
   "metadata": {},
   "outputs": [],
   "source": []
  },
  {
   "cell_type": "code",
   "execution_count": 25,
   "id": "51da4094",
   "metadata": {},
   "outputs": [],
   "source": [
    "def save_model(model, saved_dir, file_name='best_model.pt'):\n",
    "    os.makedirs(saved_dir, exist_ok=True)\n",
    "    check_point = {\n",
    "        'net': model.state_dict()\n",
    "    }\n",
    "    output_path = os.path.join(saved_dir, file_name)\n",
    "    ## 코드 시작 ##\n",
    "    torch.save(check_point, output_path)\n",
    "    ## 코드 종료 ##"
   ]
  },
  {
   "cell_type": "code",
   "execution_count": null,
   "id": "6ffcd8a0",
   "metadata": {},
   "outputs": [],
   "source": []
  },
  {
   "cell_type": "code",
   "execution_count": 26,
   "id": "83ddc3f2",
   "metadata": {},
   "outputs": [],
   "source": [
    "torch.manual_seed(7777) # 일관된 weight initialization을 위한 random seed 설정\n",
    "## 코드 시작 ##\n",
    "model = SimpleCNN()          # 위의 설명 1. 을 참고하여 None을 채우세요.\n",
    "model = model.to(device)\n",
    "\n",
    "criterion = torch.nn.CrossEntropyLoss()      # 위의 설명 2. 를 참고하여 None을 채우세요.\n",
    "optimizer = torch.optim.Adam(model.parameters(), lr=learning_rate)      # 위의 설명 3. 을 참고하여 None을 채우세요.\n",
    "## 코드 종료 ##\n",
    "\n",
    "model = model.to(device)\n",
    "val_every = 1\n",
    "saved_dir = './saved/SimpleCNN'"
   ]
  },
  {
   "cell_type": "code",
   "execution_count": null,
   "id": "cc37bbe3",
   "metadata": {},
   "outputs": [],
   "source": []
  },
  {
   "cell_type": "code",
   "execution_count": 27,
   "id": "a3e92037",
   "metadata": {},
   "outputs": [
    {
     "name": "stdout",
     "output_type": "stream",
     "text": [
      "Start training..\n",
      "Epoch [1/10], Step [3/25], Loss: 0.9740, Accuracy: 40.00%\n",
      "Epoch [1/10], Step [6/25], Loss: 0.7315, Accuracy: 69.00%\n",
      "Epoch [1/10], Step [9/25], Loss: 0.5976, Accuracy: 85.00%\n",
      "Epoch [1/10], Step [12/25], Loss: 0.5266, Accuracy: 82.00%\n",
      "Epoch [1/10], Step [15/25], Loss: 0.3078, Accuracy: 98.00%\n",
      "Epoch [1/10], Step [18/25], Loss: 0.2883, Accuracy: 95.00%\n",
      "Epoch [1/10], Step [21/25], Loss: 0.1685, Accuracy: 100.00%\n",
      "Epoch [1/10], Step [24/25], Loss: 0.2056, Accuracy: 96.00%\n",
      "Start validation #1\n",
      "Validation #1  Accuracy: 69.70%  Average Loss: 0.8113\n",
      "Best performance at epoch: 1\n",
      "Save model in ./saved/SimpleCNN\n",
      "Epoch [2/10], Step [3/25], Loss: 0.1013, Accuracy: 98.00%\n",
      "Epoch [2/10], Step [6/25], Loss: 0.1262, Accuracy: 97.00%\n",
      "Epoch [2/10], Step [9/25], Loss: 0.0667, Accuracy: 99.00%\n",
      "Epoch [2/10], Step [12/25], Loss: 0.0637, Accuracy: 99.00%\n",
      "Epoch [2/10], Step [15/25], Loss: 0.0608, Accuracy: 99.00%\n",
      "Epoch [2/10], Step [18/25], Loss: 0.0359, Accuracy: 100.00%\n",
      "Epoch [2/10], Step [21/25], Loss: 0.0660, Accuracy: 99.00%\n",
      "Epoch [2/10], Step [24/25], Loss: 0.0529, Accuracy: 99.00%\n",
      "Start validation #2\n",
      "Validation #2  Accuracy: 90.91%  Average Loss: 0.1742\n",
      "Best performance at epoch: 2\n",
      "Save model in ./saved/SimpleCNN\n",
      "Epoch [3/10], Step [3/25], Loss: 0.0338, Accuracy: 99.00%\n",
      "Epoch [3/10], Step [6/25], Loss: 0.0327, Accuracy: 99.00%\n",
      "Epoch [3/10], Step [9/25], Loss: 0.0207, Accuracy: 100.00%\n",
      "Epoch [3/10], Step [12/25], Loss: 0.0151, Accuracy: 100.00%\n",
      "Epoch [3/10], Step [15/25], Loss: 0.0132, Accuracy: 100.00%\n",
      "Epoch [3/10], Step [18/25], Loss: 0.0280, Accuracy: 99.00%\n",
      "Epoch [3/10], Step [21/25], Loss: 0.0230, Accuracy: 100.00%\n",
      "Epoch [3/10], Step [24/25], Loss: 0.0147, Accuracy: 100.00%\n",
      "Start validation #3\n",
      "Validation #3  Accuracy: 93.94%  Average Loss: 0.1092\n",
      "Best performance at epoch: 3\n",
      "Save model in ./saved/SimpleCNN\n",
      "Epoch [4/10], Step [3/25], Loss: 0.0113, Accuracy: 100.00%\n",
      "Epoch [4/10], Step [6/25], Loss: 0.0141, Accuracy: 100.00%\n",
      "Epoch [4/10], Step [9/25], Loss: 0.0313, Accuracy: 99.00%\n",
      "Epoch [4/10], Step [12/25], Loss: 0.0186, Accuracy: 100.00%\n",
      "Epoch [4/10], Step [15/25], Loss: 0.0136, Accuracy: 100.00%\n",
      "Epoch [4/10], Step [18/25], Loss: 0.0224, Accuracy: 99.00%\n",
      "Epoch [4/10], Step [21/25], Loss: 0.0083, Accuracy: 100.00%\n",
      "Epoch [4/10], Step [24/25], Loss: 0.0076, Accuracy: 100.00%\n",
      "Start validation #4\n",
      "Validation #4  Accuracy: 93.94%  Average Loss: 0.1026\n",
      "Best performance at epoch: 4\n",
      "Save model in ./saved/SimpleCNN\n",
      "Epoch [5/10], Step [3/25], Loss: 0.0061, Accuracy: 100.00%\n",
      "Epoch [5/10], Step [6/25], Loss: 0.0071, Accuracy: 100.00%\n",
      "Epoch [5/10], Step [9/25], Loss: 0.0040, Accuracy: 100.00%\n",
      "Epoch [5/10], Step [12/25], Loss: 0.0105, Accuracy: 100.00%\n",
      "Epoch [5/10], Step [15/25], Loss: 0.0063, Accuracy: 100.00%\n",
      "Epoch [5/10], Step [18/25], Loss: 0.0030, Accuracy: 100.00%\n",
      "Epoch [5/10], Step [21/25], Loss: 0.0091, Accuracy: 100.00%\n",
      "Epoch [5/10], Step [24/25], Loss: 0.0025, Accuracy: 100.00%\n",
      "Start validation #5\n",
      "Validation #5  Accuracy: 93.94%  Average Loss: 0.0939\n",
      "Best performance at epoch: 5\n",
      "Save model in ./saved/SimpleCNN\n",
      "Epoch [6/10], Step [3/25], Loss: 0.0037, Accuracy: 100.00%\n",
      "Epoch [6/10], Step [6/25], Loss: 0.0039, Accuracy: 100.00%\n",
      "Epoch [6/10], Step [9/25], Loss: 0.0094, Accuracy: 100.00%\n",
      "Epoch [6/10], Step [12/25], Loss: 0.0038, Accuracy: 100.00%\n",
      "Epoch [6/10], Step [15/25], Loss: 0.0033, Accuracy: 100.00%\n",
      "Epoch [6/10], Step [18/25], Loss: 0.0025, Accuracy: 100.00%\n",
      "Epoch [6/10], Step [21/25], Loss: 0.0022, Accuracy: 100.00%\n",
      "Epoch [6/10], Step [24/25], Loss: 0.0023, Accuracy: 100.00%\n",
      "Start validation #6\n",
      "Validation #6  Accuracy: 100.00%  Average Loss: 0.0511\n",
      "Best performance at epoch: 6\n",
      "Save model in ./saved/SimpleCNN\n",
      "Epoch [7/10], Step [3/25], Loss: 0.0032, Accuracy: 100.00%\n",
      "Epoch [7/10], Step [6/25], Loss: 0.0024, Accuracy: 100.00%\n",
      "Epoch [7/10], Step [9/25], Loss: 0.0024, Accuracy: 100.00%\n",
      "Epoch [7/10], Step [12/25], Loss: 0.0038, Accuracy: 100.00%\n",
      "Epoch [7/10], Step [15/25], Loss: 0.0032, Accuracy: 100.00%\n",
      "Epoch [7/10], Step [18/25], Loss: 0.0017, Accuracy: 100.00%\n",
      "Epoch [7/10], Step [21/25], Loss: 0.0020, Accuracy: 100.00%\n",
      "Epoch [7/10], Step [24/25], Loss: 0.0032, Accuracy: 100.00%\n",
      "Start validation #7\n",
      "Validation #7  Accuracy: 96.97%  Average Loss: 0.0540\n",
      "Epoch [8/10], Step [3/25], Loss: 0.0023, Accuracy: 100.00%\n",
      "Epoch [8/10], Step [6/25], Loss: 0.0067, Accuracy: 100.00%\n",
      "Epoch [8/10], Step [9/25], Loss: 0.0034, Accuracy: 100.00%\n",
      "Epoch [8/10], Step [12/25], Loss: 0.0022, Accuracy: 100.00%\n",
      "Epoch [8/10], Step [15/25], Loss: 0.0015, Accuracy: 100.00%\n",
      "Epoch [8/10], Step [18/25], Loss: 0.0016, Accuracy: 100.00%\n",
      "Epoch [8/10], Step [21/25], Loss: 0.0014, Accuracy: 100.00%\n",
      "Epoch [8/10], Step [24/25], Loss: 0.0013, Accuracy: 100.00%\n",
      "Start validation #8\n",
      "Validation #8  Accuracy: 100.00%  Average Loss: 0.0341\n",
      "Best performance at epoch: 8\n",
      "Save model in ./saved/SimpleCNN\n",
      "Epoch [9/10], Step [3/25], Loss: 0.0024, Accuracy: 100.00%\n",
      "Epoch [9/10], Step [6/25], Loss: 0.0021, Accuracy: 100.00%\n",
      "Epoch [9/10], Step [9/25], Loss: 0.0008, Accuracy: 100.00%\n",
      "Epoch [9/10], Step [12/25], Loss: 0.0012, Accuracy: 100.00%\n",
      "Epoch [9/10], Step [15/25], Loss: 0.0017, Accuracy: 100.00%\n",
      "Epoch [9/10], Step [18/25], Loss: 0.0020, Accuracy: 100.00%\n",
      "Epoch [9/10], Step [21/25], Loss: 0.0012, Accuracy: 100.00%\n",
      "Epoch [9/10], Step [24/25], Loss: 0.0011, Accuracy: 100.00%\n",
      "Start validation #9\n",
      "Validation #9  Accuracy: 100.00%  Average Loss: 0.0395\n",
      "Epoch [10/10], Step [3/25], Loss: 0.0026, Accuracy: 100.00%\n",
      "Epoch [10/10], Step [6/25], Loss: 0.0038, Accuracy: 100.00%\n",
      "Epoch [10/10], Step [9/25], Loss: 0.0015, Accuracy: 100.00%\n",
      "Epoch [10/10], Step [12/25], Loss: 0.0018, Accuracy: 100.00%\n",
      "Epoch [10/10], Step [15/25], Loss: 0.0011, Accuracy: 100.00%\n",
      "Epoch [10/10], Step [18/25], Loss: 0.0011, Accuracy: 100.00%\n",
      "Epoch [10/10], Step [21/25], Loss: 0.0011, Accuracy: 100.00%\n",
      "Epoch [10/10], Step [24/25], Loss: 0.0011, Accuracy: 100.00%\n",
      "Start validation #10\n",
      "Validation #10  Accuracy: 96.97%  Average Loss: 0.0552\n"
     ]
    }
   ],
   "source": [
    "train(num_epochs, model, train_loader, criterion, optimizer, saved_dir, val_every, device)"
   ]
  },
  {
   "cell_type": "code",
   "execution_count": null,
   "id": "c0d8274d",
   "metadata": {},
   "outputs": [],
   "source": []
  },
  {
   "cell_type": "code",
   "execution_count": 28,
   "id": "8c2c4dc1",
   "metadata": {},
   "outputs": [
    {
     "data": {
      "text/plain": [
       "SimpleCNN(\n",
       "  (conv): Sequential(\n",
       "    (0): Conv2d(3, 32, kernel_size=(3, 3), stride=(1, 1))\n",
       "    (1): BatchNorm2d(32, eps=1e-05, momentum=0.1, affine=True, track_running_stats=True)\n",
       "    (2): ReLU()\n",
       "    (3): MaxPool2d(kernel_size=2, stride=2, padding=0, dilation=1, ceil_mode=False)\n",
       "    (4): Conv2d(32, 64, kernel_size=(3, 3), stride=(1, 1))\n",
       "    (5): BatchNorm2d(64, eps=1e-05, momentum=0.1, affine=True, track_running_stats=True)\n",
       "    (6): ReLU()\n",
       "    (7): MaxPool2d(kernel_size=2, stride=2, padding=0, dilation=1, ceil_mode=False)\n",
       "    (8): Conv2d(64, 128, kernel_size=(3, 3), stride=(1, 1))\n",
       "    (9): BatchNorm2d(128, eps=1e-05, momentum=0.1, affine=True, track_running_stats=True)\n",
       "    (10): ReLU()\n",
       "    (11): MaxPool2d(kernel_size=2, stride=2, padding=0, dilation=1, ceil_mode=False)\n",
       "    (12): Conv2d(128, 128, kernel_size=(3, 3), stride=(1, 1))\n",
       "    (13): BatchNorm2d(128, eps=1e-05, momentum=0.1, affine=True, track_running_stats=True)\n",
       "    (14): ReLU()\n",
       "    (15): MaxPool2d(kernel_size=2, stride=2, padding=0, dilation=1, ceil_mode=False)\n",
       "  )\n",
       "  (fc1): Linear(in_features=3200, out_features=512, bias=True)\n",
       "  (fc2): Linear(in_features=512, out_features=3, bias=True)\n",
       ")"
      ]
     },
     "execution_count": 28,
     "metadata": {},
     "output_type": "execute_result"
    }
   ],
   "source": [
    "model_path = './saved/SimpleCNN/best_model.pt'\n",
    "# model_path = './saved/pretrained/SimpleCNN/best_model.pt' # 모델 학습을 끝까지 진행하지 않은 경우에 사용\n",
    "model = SimpleCNN().to(device)   # 아래의 모델 불러오기를 정확히 구현했는지 확인하기 위해 새로 모델을 선언하여 학습 이전 상태로 초기화\n",
    "\n",
    "## 코드 시작 ##\n",
    "checkpoint = torch.load(model_path, map_location=device)    # 위의 설명 1. 을 참고하여 None을 채우세요.\n",
    "state_dict = model.load_state_dict(checkpoint['net'])    # 위의 설명 2. 를 참고하여 None을 채우세요.\n",
    "model.eval()               # 위의 설명 3. 을 참고하여 None을 채우세요.\n",
    "## 코드 종료 ##"
   ]
  },
  {
   "cell_type": "code",
   "execution_count": null,
   "id": "bde92b73",
   "metadata": {},
   "outputs": [],
   "source": []
  },
  {
   "cell_type": "code",
   "execution_count": 29,
   "id": "4f38e089",
   "metadata": {},
   "outputs": [
    {
     "name": "stdout",
     "output_type": "stream",
     "text": [
      "Start test..\n",
      "Test accuracy for 372 images: 83.06%\n"
     ]
    }
   ],
   "source": [
    "test(model, test_loader, device)"
   ]
  },
  {
   "cell_type": "markdown",
   "id": "b2cccd95",
   "metadata": {},
   "source": [
    "Resnet\n",
    "모델\n"
   ]
  },
  {
   "cell_type": "code",
   "execution_count": null,
   "id": "7f7f6e8a",
   "metadata": {},
   "outputs": [],
   "source": [
    "new_model = torchvision.models.resnet50(pretrained=True)"
   ]
  },
  {
   "cell_type": "code",
   "execution_count": null,
   "id": "e87dd858",
   "metadata": {},
   "outputs": [],
   "source": [
    "data_transforms = {\n",
    "    'train': transforms.Compose([\n",
    "        transforms.RandomRotation(5),\n",
    "        transforms.RandomHorizontalFlip(),\n",
    "        transforms.RandomResizedCrop(224, scale=(0.96, 1.0), ratio=(0.95, 1.05)),\n",
    "        transforms.ToTensor(),\n",
    "        transforms.Normalize([0.485, 0.456, 0.406], [0.229, 0.224, 0.225])\n",
    "    ]),\n",
    "    'val': transforms.Compose([\n",
    "        transforms.Resize([224, 224]),\n",
    "        transforms.ToTensor(),\n",
    "        transforms.Normalize([0.485, 0.456, 0.406], [0.229, 0.224, 0.225])\n",
    "    ]),\n",
    "}\n",
    "\n",
    "train_data = RPSDataset(data_dir='./archive/rps', mode='train', transform=data_transforms['train'])\n",
    "val_data = RPSDataset(data_dir='./archive/rps', mode='val', transform=data_transforms['val'])\n",
    "test_data = RPSDataset(data_dir='./archive/rps', mode='test', transform=data_transforms['val'])\n",
    "\n",
    "train_loader = DataLoader(train_data, batch_size=batch_size, shuffle=True, drop_last=True)\n",
    "val_loader = DataLoader(val_data, batch_size=batch_size, shuffle=False, drop_last=True)\n",
    "test_loader = DataLoader(test_data, batch_size=batch_size, shuffle=False, drop_last=True)"
   ]
  },
  {
   "cell_type": "code",
   "execution_count": null,
   "id": "f1da99cc",
   "metadata": {},
   "outputs": [],
   "source": [
    "for param in new_model.parameters():\n",
    "    param.requires_grad = False\n",
    "\n",
    "num_ftrs = new_model.fc.in_features\n",
    "## 코드 시작 ##\n",
    "new_model.fc = nn.Linear(2048, 2)    # 위의 설명 1. 을 참고하여 None을 채우세요.\n",
    "criterion = torch.nn.CrossEntropyLoss()       # 위의 설명 2. 를 참고하여 None을 채우세요.\n",
    "new_model = new_model.to(device)\n",
    "optimizer = torch.optim.Adam(new_model.parameters(), lr=learning_rate)       # 위의 설명 3. 을 참고하여 None을 채우세요.\n",
    "## 코드 종료 ##\n",
    "val_every = 1\n",
    "saved_dir = './saved/ResNet50'"
   ]
  },
  {
   "cell_type": "code",
   "execution_count": null,
   "id": "8bd78af0",
   "metadata": {},
   "outputs": [],
   "source": [
    "train(num_epochs, new_model, train_loader, criterion, optimizer, saved_dir, val_every, device)"
   ]
  },
  {
   "cell_type": "code",
   "execution_count": null,
   "id": "0e4030a3",
   "metadata": {},
   "outputs": [],
   "source": []
  }
 ],
 "metadata": {
  "kernelspec": {
   "display_name": "Python 3",
   "language": "python",
   "name": "python3"
  },
  "language_info": {
   "codemirror_mode": {
    "name": "ipython",
    "version": 3
   },
   "file_extension": ".py",
   "mimetype": "text/x-python",
   "name": "python",
   "nbconvert_exporter": "python",
   "pygments_lexer": "ipython3",
   "version": "3.8.8"
  }
 },
 "nbformat": 4,
 "nbformat_minor": 5
}
